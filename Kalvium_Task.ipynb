{
  "cells": [
    {
      "cell_type": "code",
      "execution_count": null,
      "metadata": {
        "colab": {
          "base_uri": "https://localhost:8080/"
        },
        "id": "loWpASdEVe33",
        "outputId": "1e47aae6-401e-46d8-a4e8-30843cd17cd6"
      },
      "outputs": [
        {
          "name": "stdout",
          "output_type": "stream",
          "text": [
            "Requirement already satisfied: beautifulsoup4 in /usr/local/lib/python3.10/dist-packages (4.12.3)\n",
            "Requirement already satisfied: lxml in /usr/local/lib/python3.10/dist-packages (4.9.4)\n",
            "Requirement already satisfied: requests in /usr/local/lib/python3.10/dist-packages (2.31.0)\n",
            "Requirement already satisfied: pandas in /usr/local/lib/python3.10/dist-packages (2.0.3)\n",
            "Requirement already satisfied: soupsieve>1.2 in /usr/local/lib/python3.10/dist-packages (from beautifulsoup4) (2.5)\n",
            "Requirement already satisfied: charset-normalizer<4,>=2 in /usr/local/lib/python3.10/dist-packages (from requests) (3.3.2)\n",
            "Requirement already satisfied: idna<4,>=2.5 in /usr/local/lib/python3.10/dist-packages (from requests) (3.7)\n",
            "Requirement already satisfied: urllib3<3,>=1.21.1 in /usr/local/lib/python3.10/dist-packages (from requests) (2.0.7)\n",
            "Requirement already satisfied: certifi>=2017.4.17 in /usr/local/lib/python3.10/dist-packages (from requests) (2024.6.2)\n",
            "Requirement already satisfied: python-dateutil>=2.8.2 in /usr/local/lib/python3.10/dist-packages (from pandas) (2.8.2)\n",
            "Requirement already satisfied: pytz>=2020.1 in /usr/local/lib/python3.10/dist-packages (from pandas) (2023.4)\n",
            "Requirement already satisfied: tzdata>=2022.1 in /usr/local/lib/python3.10/dist-packages (from pandas) (2024.1)\n",
            "Requirement already satisfied: numpy>=1.21.0 in /usr/local/lib/python3.10/dist-packages (from pandas) (1.25.2)\n",
            "Requirement already satisfied: six>=1.5 in /usr/local/lib/python3.10/dist-packages (from python-dateutil>=2.8.2->pandas) (1.16.0)\n"
          ]
        }
      ],
      "source": [
        "!pip install beautifulsoup4 lxml requests pandas\n"
      ]
    },
    {
      "cell_type": "code",
      "execution_count": null,
      "metadata": {
        "id": "ecnET8e0WBpG"
      },
      "outputs": [],
      "source": [
        "from bs4 import BeautifulSoup\n",
        "import requests\n",
        "import pandas as pd\n",
        "import urllib3\n"
      ]
    },
    {
      "cell_type": "code",
      "execution_count": null,
      "metadata": {
        "id": "XrZdvF5NXBbJ"
      },
      "outputs": [],
      "source": [
        "url='https://results.eci.gov.in/PcResultGenJune2024/index.htm'\n",
        "page = requests.get(url)\n",
        "soup= BeautifulSoup(page.text,'html')"
      ]
    },
    {
      "cell_type": "code",
      "execution_count": null,
      "metadata": {
        "id": "2d4B_840XEg0"
      },
      "outputs": [],
      "source": [
        "table = soup.find('table', {'class': 'table'})\n"
      ]
    },
    {
      "cell_type": "code",
      "execution_count": null,
      "metadata": {
        "id": "0a6ly2vzXGlX"
      },
      "outputs": [],
      "source": [
        "headers = [header.text.strip() for header in table.find_all('th')]\n"
      ]
    },
    {
      "cell_type": "code",
      "execution_count": null,
      "metadata": {
        "id": "wuh07KLWXJId"
      },
      "outputs": [],
      "source": [
        "rows = []\n",
        "for row in table.find_all('tr')[1:]:  # Skip the header row\n",
        "    cells = row.find_all('td')\n",
        "    rows.append([cell.text.strip() for cell in cells])"
      ]
    },
    {
      "cell_type": "code",
      "execution_count": null,
      "metadata": {
        "id": "oVJ4Fr53XLFd"
      },
      "outputs": [],
      "source": [
        "tfoot = table.find('tfoot')\n",
        "if tfoot:\n",
        "    total_row = tfoot.find('tr')\n",
        "    total_cells = total_row.find_all('th') if total_row else []\n",
        "    total_data = [cell.text.strip() for cell in total_cells]\n",
        "    if len(total_data) == len(headers):\n",
        "        rows.append(total_data)"
      ]
    },
    {
      "cell_type": "code",
      "execution_count": null,
      "metadata": {
        "colab": {
          "base_uri": "https://localhost:8080/"
        },
        "id": "h_Y3m4WJXNTu",
        "outputId": "d6150dbd-b197-4c36-a8c9-8e5189c14fa9"
      },
      "outputs": [
        {
          "name": "stdout",
          "output_type": "stream",
          "text": [
            "[['Bharatiya Janata Party - BJP', '240', '0', '240'], ['Indian National Congress - INC', '99', '0', '99'], ['Samajwadi Party - SP', '37', '0', '37'], ['All India Trinamool Congress - AITC', '29', '0', '29'], ['Dravida Munnetra Kazhagam - DMK', '22', '0', '22'], ['Telugu Desam - TDP', '16', '0', '16'], ['Janata Dal  (United) - JD(U)', '12', '0', '12'], ['Shiv Sena (Uddhav Balasaheb Thackrey) - SHSUBT', '9', '0', '9'], ['Nationalist Congress Party – Sharadchandra Pawar - NCPSP', '8', '0', '8'], ['Shiv Sena - SHS', '7', '0', '7'], ['Lok Janshakti Party(Ram Vilas) - LJPRV', '5', '0', '5'], ['Yuvajana Sramika Rythu Congress Party - YSRCP', '4', '0', '4'], ['Rashtriya Janata Dal - RJD', '4', '0', '4'], ['Communist Party of India  (Marxist) - CPI(M)', '4', '0', '4'], ['Indian Union Muslim League - IUML', '3', '0', '3'], ['Aam Aadmi Party - AAAP', '3', '0', '3'], ['Jharkhand Mukti Morcha - JMM', '3', '0', '3'], ['Janasena Party - JnP', '2', '0', '2'], ['Communist Party of India  (Marxist-Leninist)  (Liberation) - CPI(ML)(L)', '2', '0', '2'], ['Janata Dal  (Secular) - JD(S)', '2', '0', '2'], ['Viduthalai Chiruthaigal Katchi - VCK', '2', '0', '2'], ['Communist Party of India - CPI', '2', '0', '2'], ['Rashtriya Lok Dal - RLD', '2', '0', '2'], ['Jammu & Kashmir National Conference - JKN', '2', '0', '2'], ['United People’s Party, Liberal - UPPL', '1', '0', '1'], ['Asom Gana Parishad - AGP', '1', '0', '1'], ['Hindustani Awam Morcha (Secular) - HAMS', '1', '0', '1'], ['Kerala Congress - KEC', '1', '0', '1'], ['Revolutionary Socialist Party - RSP', '1', '0', '1'], ['Nationalist Congress Party - NCP', '1', '0', '1'], ['Voice of the People Party - VOTPP', '1', '0', '1'], ['Zoram People’s Movement - ZPM', '1', '0', '1'], ['Shiromani Akali Dal - SAD', '1', '0', '1'], ['Rashtriya Loktantrik Party - RLTP', '1', '0', '1'], ['Bharat Adivasi Party - BHRTADVSIP', '1', '0', '1'], ['Sikkim Krantikari Morcha - SKM', '1', '0', '1'], ['Marumalarchi Dravida Munnetra Kazhagam - MDMK', '1', '0', '1'], ['Aazad Samaj Party (Kanshi Ram) - ASPKR', '1', '0', '1'], ['Apna Dal (Soneylal) - ADAL', '1', '0', '1'], ['AJSU Party - AJSUP', '1', '0', '1'], ['All India Majlis-E-Ittehadul Muslimeen - AIMIM', '1', '0', '1'], ['Independent - IND', '7', '0', '7'], []]\n"
          ]
        }
      ],
      "source": [
        "print(rows)\n"
      ]
    },
    {
      "cell_type": "code",
      "execution_count": null,
      "metadata": {
        "id": "uUo1uBe8Xu4-"
      },
      "outputs": [],
      "source": [
        "headers = ['Party Name', 'Won', 'Leading', 'Total']\n",
        "df = pd.DataFrame(rows, columns=headers)\n"
      ]
    },
    {
      "cell_type": "code",
      "execution_count": null,
      "metadata": {
        "id": "VYDl9_Y8XyaP"
      },
      "outputs": [],
      "source": [
        "#TABULAR DATA FROM WEBSITE"
      ]
    },
    {
      "cell_type": "code",
      "execution_count": null,
      "metadata": {
        "colab": {
          "base_uri": "https://localhost:8080/"
        },
        "id": "o2A0gTnAYhRb",
        "outputId": "4fd8f90c-3f96-48cd-dd76-6d5be6760954"
      },
      "outputs": [
        {
          "name": "stdout",
          "output_type": "stream",
          "text": [
            "                                           Party Name   Won Leading Total\n",
            "0                        Bharatiya Janata Party - BJP   240       0   240\n",
            "1                      Indian National Congress - INC    99       0    99\n",
            "2                                Samajwadi Party - SP    37       0    37\n",
            "3                 All India Trinamool Congress - AITC    29       0    29\n",
            "4                     Dravida Munnetra Kazhagam - DMK    22       0    22\n",
            "5                                  Telugu Desam - TDP    16       0    16\n",
            "6                        Janata Dal  (United) - JD(U)    12       0    12\n",
            "7      Shiv Sena (Uddhav Balasaheb Thackrey) - SHSUBT     9       0     9\n",
            "8   Nationalist Congress Party – Sharadchandra Paw...     8       0     8\n",
            "9                                     Shiv Sena - SHS     7       0     7\n",
            "10             Lok Janshakti Party(Ram Vilas) - LJPRV     5       0     5\n",
            "11      Yuvajana Sramika Rythu Congress Party - YSRCP     4       0     4\n",
            "12                         Rashtriya Janata Dal - RJD     4       0     4\n",
            "13       Communist Party of India  (Marxist) - CPI(M)     4       0     4\n",
            "14                  Indian Union Muslim League - IUML     3       0     3\n",
            "15                             Aam Aadmi Party - AAAP     3       0     3\n",
            "16                       Jharkhand Mukti Morcha - JMM     3       0     3\n",
            "17                               Janasena Party - JnP     2       0     2\n",
            "18  Communist Party of India  (Marxist-Leninist)  ...     2       0     2\n",
            "19                      Janata Dal  (Secular) - JD(S)     2       0     2\n",
            "20               Viduthalai Chiruthaigal Katchi - VCK     2       0     2\n",
            "21                     Communist Party of India - CPI     2       0     2\n",
            "22                            Rashtriya Lok Dal - RLD     2       0     2\n",
            "23          Jammu & Kashmir National Conference - JKN     2       0     2\n",
            "24              United People’s Party, Liberal - UPPL     1       0     1\n",
            "25                           Asom Gana Parishad - AGP     1       0     1\n",
            "26            Hindustani Awam Morcha (Secular) - HAMS     1       0     1\n",
            "27                              Kerala Congress - KEC     1       0     1\n",
            "28                Revolutionary Socialist Party - RSP     1       0     1\n",
            "29                   Nationalist Congress Party - NCP     1       0     1\n",
            "30                  Voice of the People Party - VOTPP     1       0     1\n",
            "31                      Zoram People’s Movement - ZPM     1       0     1\n",
            "32                          Shiromani Akali Dal - SAD     1       0     1\n",
            "33                  Rashtriya Loktantrik Party - RLTP     1       0     1\n",
            "34                  Bharat Adivasi Party - BHRTADVSIP     1       0     1\n",
            "35                     Sikkim Krantikari Morcha - SKM     1       0     1\n",
            "36      Marumalarchi Dravida Munnetra Kazhagam - MDMK     1       0     1\n",
            "37             Aazad Samaj Party (Kanshi Ram) - ASPKR     1       0     1\n",
            "38                         Apna Dal (Soneylal) - ADAL     1       0     1\n",
            "39                                 AJSU Party - AJSUP     1       0     1\n",
            "40     All India Majlis-E-Ittehadul Muslimeen - AIMIM     1       0     1\n",
            "41                                  Independent - IND     7       0     7\n",
            "42                                               None  None    None  None\n"
          ]
        }
      ],
      "source": [
        "print(df)\n"
      ]
    },
    {
      "cell_type": "code",
      "execution_count": null,
      "metadata": {
        "id": "TRyhBHPCYtnw"
      },
      "outputs": [],
      "source": [
        "#The CSV File"
      ]
    },
    {
      "cell_type": "code",
      "execution_count": null,
      "metadata": {
        "id": "LBWmJNTAZEq8"
      },
      "outputs": [],
      "source": [
        "df=df.dropna()\n"
      ]
    },
    {
      "cell_type": "code",
      "execution_count": null,
      "metadata": {
        "colab": {
          "base_uri": "https://localhost:8080/"
        },
        "id": "ZM1jAVABZWYY",
        "outputId": "a25fa717-f913-4131-98f4-d807d7a343ee"
      },
      "outputs": [
        {
          "name": "stdout",
          "output_type": "stream",
          "text": [
            "                                           Party Name  Won Leading Total\n",
            "0                        Bharatiya Janata Party - BJP  240       0   240\n",
            "1                      Indian National Congress - INC   99       0    99\n",
            "2                                Samajwadi Party - SP   37       0    37\n",
            "3                 All India Trinamool Congress - AITC   29       0    29\n",
            "4                     Dravida Munnetra Kazhagam - DMK   22       0    22\n",
            "5                                  Telugu Desam - TDP   16       0    16\n",
            "6                        Janata Dal  (United) - JD(U)   12       0    12\n",
            "7      Shiv Sena (Uddhav Balasaheb Thackrey) - SHSUBT    9       0     9\n",
            "8   Nationalist Congress Party – Sharadchandra Paw...    8       0     8\n",
            "9                                     Shiv Sena - SHS    7       0     7\n",
            "10             Lok Janshakti Party(Ram Vilas) - LJPRV    5       0     5\n",
            "11      Yuvajana Sramika Rythu Congress Party - YSRCP    4       0     4\n",
            "12                         Rashtriya Janata Dal - RJD    4       0     4\n",
            "13       Communist Party of India  (Marxist) - CPI(M)    4       0     4\n",
            "14                  Indian Union Muslim League - IUML    3       0     3\n",
            "15                             Aam Aadmi Party - AAAP    3       0     3\n",
            "16                       Jharkhand Mukti Morcha - JMM    3       0     3\n",
            "17                               Janasena Party - JnP    2       0     2\n",
            "18  Communist Party of India  (Marxist-Leninist)  ...    2       0     2\n",
            "19                      Janata Dal  (Secular) - JD(S)    2       0     2\n",
            "20               Viduthalai Chiruthaigal Katchi - VCK    2       0     2\n",
            "21                     Communist Party of India - CPI    2       0     2\n",
            "22                            Rashtriya Lok Dal - RLD    2       0     2\n",
            "23          Jammu & Kashmir National Conference - JKN    2       0     2\n",
            "24              United People’s Party, Liberal - UPPL    1       0     1\n",
            "25                           Asom Gana Parishad - AGP    1       0     1\n",
            "26            Hindustani Awam Morcha (Secular) - HAMS    1       0     1\n",
            "27                              Kerala Congress - KEC    1       0     1\n",
            "28                Revolutionary Socialist Party - RSP    1       0     1\n",
            "29                   Nationalist Congress Party - NCP    1       0     1\n",
            "30                  Voice of the People Party - VOTPP    1       0     1\n",
            "31                      Zoram People’s Movement - ZPM    1       0     1\n",
            "32                          Shiromani Akali Dal - SAD    1       0     1\n",
            "33                  Rashtriya Loktantrik Party - RLTP    1       0     1\n",
            "34                  Bharat Adivasi Party - BHRTADVSIP    1       0     1\n",
            "35                     Sikkim Krantikari Morcha - SKM    1       0     1\n",
            "36      Marumalarchi Dravida Munnetra Kazhagam - MDMK    1       0     1\n",
            "37             Aazad Samaj Party (Kanshi Ram) - ASPKR    1       0     1\n",
            "38                         Apna Dal (Soneylal) - ADAL    1       0     1\n",
            "39                                 AJSU Party - AJSUP    1       0     1\n",
            "40     All India Majlis-E-Ittehadul Muslimeen - AIMIM    1       0     1\n",
            "41                                  Independent - IND    7       0     7\n"
          ]
        }
      ],
      "source": [
        "print(df)\n"
      ]
    },
    {
      "cell_type": "code",
      "execution_count": null,
      "metadata": {
        "id": "iIkV0bGJZeZz"
      },
      "outputs": [],
      "source": [
        "df.to_csv('election_results_kalvium.csv')\n"
      ]
    },
    {
      "cell_type": "code",
      "execution_count": null,
      "metadata": {
        "colab": {
          "base_uri": "https://localhost:8080/"
        },
        "id": "dLBfjbPvZ15Y",
        "outputId": "4bad8ab2-9076-45fe-e128-731a8f352555"
      },
      "outputs": [
        {
          "name": "stdout",
          "output_type": "stream",
          "text": [
            "Data saved to election_results_kalvium.csv\n"
          ]
        }
      ],
      "source": [
        "print(\"Data saved to election_results_kalvium.csv\")\n"
      ]
    },
    {
      "cell_type": "code",
      "execution_count": null,
      "metadata": {
        "id": "HSKfp1j5Z5SY"
      },
      "outputs": [],
      "source": [
        "#Now bringing you some uselful insights from the election data\n",
        "\n",
        "\n",
        "# These insights shows the statistical representation of 2024 LokSabha Election result\n",
        "# Source - https://results.eci.gov.in/"
      ]
    },
    {
      "cell_type": "code",
      "execution_count": 31,
      "metadata": {
        "id": "Qf-S8YpYf2Da"
      },
      "outputs": [],
      "source": [
        "df['Won'] = pd.to_numeric(df['Won'])\n",
        "df['Leading'] = pd.to_numeric(df['Leading'])\n",
        "df['Total'] = pd.to_numeric(df['Total'])"
      ]
    },
    {
      "cell_type": "code",
      "execution_count": 33,
      "metadata": {
        "colab": {
          "base_uri": "https://localhost:8080/"
        },
        "id": "Hw3efIiygGB5",
        "outputId": "fd8df3ef-fc52-4b8d-8264-a30d891319eb"
      },
      "outputs": [
        {
          "output_type": "stream",
          "name": "stdout",
          "text": [
            "Average number of seats won by all parties: 12.93\n"
          ]
        }
      ],
      "source": [
        "# Calculate average (mean) number of seats won by all parties\n",
        "#This represents the arithmetic mean of the seats won by all the parties.\n",
        "\n",
        "#INSIGHT 1\n",
        "\n",
        "average_seats_won = df['Won'].mean()\n",
        "print(f\"Average number of seats won by all parties: {average_seats_won:.2f}\")\n"
      ]
    },
    {
      "cell_type": "code",
      "execution_count": 34,
      "metadata": {
        "id": "Rq45xqkDgI-u",
        "colab": {
          "base_uri": "https://localhost:8080/"
        },
        "outputId": "9ddd8611-a6e5-46cf-fa32-e862d618c19b"
      },
      "outputs": [
        {
          "output_type": "stream",
          "name": "stdout",
          "text": [
            "Median number of seats won by all parties: 2.0\n"
          ]
        }
      ],
      "source": [
        "#INSIGHT 2\n",
        "# Calculate median number of seats won by all parties\n",
        "# The median number of seats won represents the middle value of seats won when they are arranged in ascending order.\n",
        "median_seats_won = df['Won'].median()\n",
        "print(f\"Median number of seats won by all parties: {median_seats_won}\")"
      ]
    },
    {
      "cell_type": "code",
      "source": [
        "#INSIGHT 3\n",
        "# Standard deviation of seats won by all parties\n",
        "# The standard deviation measures the amount of variation or dispersion of the seats won by the parties.\n",
        "std_dev_seats_won = df['Won'].std()\n",
        "print(f\"Standard deviation of seats won by all parties: {std_dev_seats_won:.2f}\")\n"
      ],
      "metadata": {
        "colab": {
          "base_uri": "https://localhost:8080/"
        },
        "id": "8jr0PJuz1gRw",
        "outputId": "3255a81e-7ec1-4c83-8720-3dc8928f595b"
      },
      "execution_count": 35,
      "outputs": [
        {
          "output_type": "stream",
          "name": "stdout",
          "text": [
            "Standard deviation of seats won by all parties: 39.47\n"
          ]
        }
      ]
    },
    {
      "cell_type": "code",
      "source": [
        "#INSIGHT 4\n",
        "# Total number of seats won by all parties combined\n",
        "total_seats_won_combined = df['Won'].sum()\n",
        "print(f\"Total number of seats won by all parties combined: {total_seats_won_combined}\")\n"
      ],
      "metadata": {
        "colab": {
          "base_uri": "https://localhost:8080/"
        },
        "id": "k3acd3V71iVC",
        "outputId": "8ef33844-da52-4575-a616-739a23ff2271"
      },
      "execution_count": 36,
      "outputs": [
        {
          "output_type": "stream",
          "name": "stdout",
          "text": [
            "Total number of seats won by all parties combined: 543\n"
          ]
        }
      ]
    },
    {
      "cell_type": "code",
      "source": [
        "#INSIGHT 5\n",
        "# Percentage of seats won by each party\n",
        "\n",
        "# Total number of seats contested\n",
        "total_seats_contested = df['Total'].sum()\n",
        "print(f\"Total number of seats contested: {total_seats_contested}\")\n",
        "\n",
        "# Calculate the percentage of seats won by each party\n",
        "df['Winning Percentage'] = (df['Won'] / total_seats_contested) * 100\n",
        "\n",
        "# Display the DataFrame with the new column\n",
        "print(df[['Party Name', 'Won', 'Winning Percentage']])"
      ],
      "metadata": {
        "colab": {
          "base_uri": "https://localhost:8080/"
        },
        "id": "4E0od01Z2lBc",
        "outputId": "c033b924-7ce1-45fd-c68d-c2937c1db254"
      },
      "execution_count": 40,
      "outputs": [
        {
          "output_type": "stream",
          "name": "stdout",
          "text": [
            "Total number of seats contested: 543\n",
            "                                           Party Name  Won  Winning Percentage\n",
            "0                        Bharatiya Janata Party - BJP  240           44.198895\n",
            "1                      Indian National Congress - INC   99           18.232044\n",
            "2                                Samajwadi Party - SP   37            6.813996\n",
            "3                 All India Trinamool Congress - AITC   29            5.340700\n",
            "4                     Dravida Munnetra Kazhagam - DMK   22            4.051565\n",
            "5                                  Telugu Desam - TDP   16            2.946593\n",
            "6                        Janata Dal  (United) - JD(U)   12            2.209945\n",
            "7      Shiv Sena (Uddhav Balasaheb Thackrey) - SHSUBT    9            1.657459\n",
            "8   Nationalist Congress Party – Sharadchandra Paw...    8            1.473297\n",
            "9                                     Shiv Sena - SHS    7            1.289134\n",
            "10             Lok Janshakti Party(Ram Vilas) - LJPRV    5            0.920810\n",
            "11      Yuvajana Sramika Rythu Congress Party - YSRCP    4            0.736648\n",
            "12                         Rashtriya Janata Dal - RJD    4            0.736648\n",
            "13       Communist Party of India  (Marxist) - CPI(M)    4            0.736648\n",
            "14                  Indian Union Muslim League - IUML    3            0.552486\n",
            "15                             Aam Aadmi Party - AAAP    3            0.552486\n",
            "16                       Jharkhand Mukti Morcha - JMM    3            0.552486\n",
            "17                               Janasena Party - JnP    2            0.368324\n",
            "18  Communist Party of India  (Marxist-Leninist)  ...    2            0.368324\n",
            "19                      Janata Dal  (Secular) - JD(S)    2            0.368324\n",
            "20               Viduthalai Chiruthaigal Katchi - VCK    2            0.368324\n",
            "21                     Communist Party of India - CPI    2            0.368324\n",
            "22                            Rashtriya Lok Dal - RLD    2            0.368324\n",
            "23          Jammu & Kashmir National Conference - JKN    2            0.368324\n",
            "24              United People’s Party, Liberal - UPPL    1            0.184162\n",
            "25                           Asom Gana Parishad - AGP    1            0.184162\n",
            "26            Hindustani Awam Morcha (Secular) - HAMS    1            0.184162\n",
            "27                              Kerala Congress - KEC    1            0.184162\n",
            "28                Revolutionary Socialist Party - RSP    1            0.184162\n",
            "29                   Nationalist Congress Party - NCP    1            0.184162\n",
            "30                  Voice of the People Party - VOTPP    1            0.184162\n",
            "31                      Zoram People’s Movement - ZPM    1            0.184162\n",
            "32                          Shiromani Akali Dal - SAD    1            0.184162\n",
            "33                  Rashtriya Loktantrik Party - RLTP    1            0.184162\n",
            "34                  Bharat Adivasi Party - BHRTADVSIP    1            0.184162\n",
            "35                     Sikkim Krantikari Morcha - SKM    1            0.184162\n",
            "36      Marumalarchi Dravida Munnetra Kazhagam - MDMK    1            0.184162\n",
            "37             Aazad Samaj Party (Kanshi Ram) - ASPKR    1            0.184162\n",
            "38                         Apna Dal (Soneylal) - ADAL    1            0.184162\n",
            "39                                 AJSU Party - AJSUP    1            0.184162\n",
            "40     All India Majlis-E-Ittehadul Muslimeen - AIMIM    1            0.184162\n",
            "41                                  Independent - IND    7            1.289134\n"
          ]
        }
      ]
    },
    {
      "cell_type": "code",
      "source": [
        "#INSIGHT 6\n",
        "# Emerging Parties\n",
        "\n",
        "# These are the parties that won 5 or lesser number of votes\n",
        "emerging_parties = df[df['Won'] <= 5]['Party Name']\n",
        "print(\"Emerging Parties:\")\n",
        "print(emerging_parties)"
      ],
      "metadata": {
        "colab": {
          "base_uri": "https://localhost:8080/"
        },
        "id": "d7CgDX-T3B7R",
        "outputId": "6bb8a1d0-4f40-44ec-bf47-0aae62a0b730"
      },
      "execution_count": 46,
      "outputs": [
        {
          "output_type": "stream",
          "name": "stdout",
          "text": [
            "Emerging Parties:\n",
            "10               Lok Janshakti Party(Ram Vilas) - LJPRV\n",
            "11        Yuvajana Sramika Rythu Congress Party - YSRCP\n",
            "12                           Rashtriya Janata Dal - RJD\n",
            "13         Communist Party of India  (Marxist) - CPI(M)\n",
            "14                    Indian Union Muslim League - IUML\n",
            "15                               Aam Aadmi Party - AAAP\n",
            "16                         Jharkhand Mukti Morcha - JMM\n",
            "17                                 Janasena Party - JnP\n",
            "18    Communist Party of India  (Marxist-Leninist)  ...\n",
            "19                        Janata Dal  (Secular) - JD(S)\n",
            "20                 Viduthalai Chiruthaigal Katchi - VCK\n",
            "21                       Communist Party of India - CPI\n",
            "22                              Rashtriya Lok Dal - RLD\n",
            "23            Jammu & Kashmir National Conference - JKN\n",
            "24                United People’s Party, Liberal - UPPL\n",
            "25                             Asom Gana Parishad - AGP\n",
            "26              Hindustani Awam Morcha (Secular) - HAMS\n",
            "27                                Kerala Congress - KEC\n",
            "28                  Revolutionary Socialist Party - RSP\n",
            "29                     Nationalist Congress Party - NCP\n",
            "30                    Voice of the People Party - VOTPP\n",
            "31                        Zoram People’s Movement - ZPM\n",
            "32                            Shiromani Akali Dal - SAD\n",
            "33                    Rashtriya Loktantrik Party - RLTP\n",
            "34                    Bharat Adivasi Party - BHRTADVSIP\n",
            "35                       Sikkim Krantikari Morcha - SKM\n",
            "36        Marumalarchi Dravida Munnetra Kazhagam - MDMK\n",
            "37               Aazad Samaj Party (Kanshi Ram) - ASPKR\n",
            "38                           Apna Dal (Soneylal) - ADAL\n",
            "39                                   AJSU Party - AJSUP\n",
            "40       All India Majlis-E-Ittehadul Muslimeen - AIMIM\n",
            "Name: Party Name, dtype: object\n"
          ]
        }
      ]
    },
    {
      "cell_type": "code",
      "source": [
        "import pandas as pd\n",
        "\n",
        "# Load the data from the CSV file\n",
        "df = pd.read_csv('election_results_kalvium.csv')\n",
        "\n",
        "# Convert numeric columns to integers\n",
        "df['Won'] = pd.to_numeric(df['Won'])\n",
        "df['Leading'] = pd.to_numeric(df['Leading'])\n",
        "df['Total'] = pd.to_numeric(df['Total'])\n",
        "\n",
        "# Calculate the total number of seats won by all parties combined\n",
        "total_seats_won_combined = df['Won'].sum()\n",
        "\n",
        "# Create a copy with necessary columns\n",
        "party_share = df[['Party Name', 'Won']].copy()\n",
        "\n",
        "# Calculate the percentage of seats won by each party\n",
        "party_share['Percentage of Seats Won'] = (party_share['Won'] / total_seats_won_combined) * 100\n",
        "\n",
        "# Sort the parties by percentage of seats won in descending order\n",
        "party_share_sorted = party_share.sort_values(by='Percentage of Seats Won', ascending=False)\n",
        "\n",
        "# Select the top 5 parties\n",
        "top_5_parties = party_share_sorted.head(5)\n",
        "\n",
        "# Print the results\n",
        "print(\"\\nTop 5 Parties by Seats Won:\")\n",
        "print(f\"Total seats won across all parties: {total_seats_won_combined}\")\n",
        "print(\"Percentage share of seats by party:\")\n",
        "print(top_5_parties[['Party Name', 'Percentage of Seats Won']])\n"
      ],
      "metadata": {
        "colab": {
          "base_uri": "https://localhost:8080/"
        },
        "id": "ZU3AXDXZ4q7K",
        "outputId": "af1125da-ea65-4e81-9c31-66ebba2a69c0"
      },
      "execution_count": 50,
      "outputs": [
        {
          "output_type": "stream",
          "name": "stdout",
          "text": [
            "\n",
            "Top 5 Parties by Seats Won:\n",
            "Total seats won across all parties: 543\n",
            "Percentage share of seats by party:\n",
            "                            Party Name  Percentage of Seats Won\n",
            "0         Bharatiya Janata Party - BJP                44.198895\n",
            "1       Indian National Congress - INC                18.232044\n",
            "2                 Samajwadi Party - SP                 6.813996\n",
            "3  All India Trinamool Congress - AITC                 5.340700\n",
            "4      Dravida Munnetra Kazhagam - DMK                 4.051565\n"
          ]
        }
      ]
    },
    {
      "cell_type": "code",
      "source": [
        "#importing the statewise data into a new table\n",
        "\n",
        "#fetching the url of the table web page\n",
        "\n",
        "\n",
        "url2='https://results.eci.gov.in/PcResultGenJune2024/partywiseresult-S24.htm'\n",
        "page2 = requests.get(url2)\n",
        "soup2= BeautifulSoup(page2.text,'html')"
      ],
      "metadata": {
        "id": "Fqbt19r3BrCt"
      },
      "execution_count": 62,
      "outputs": []
    },
    {
      "cell_type": "code",
      "source": [
        "#importing the table into table2 from the web\n",
        "table2 = soup2.find('table', {'class': 'table'})\n"
      ],
      "metadata": {
        "id": "pQ9T4vjqJIuE"
      },
      "execution_count": 63,
      "outputs": []
    },
    {
      "cell_type": "code",
      "source": [
        "headers2 = ['Party', 'Won', 'Leading', 'Total']\n"
      ],
      "metadata": {
        "id": "cBnHC3ywJTsD"
      },
      "execution_count": 64,
      "outputs": []
    },
    {
      "cell_type": "code",
      "source": [
        "rows2 = []\n",
        "for row in table2.find_all('tr')[1:]:  # Skip the header row\n",
        "    cells = row.find_all('td')\n",
        "    row_data = [cell.text.strip() for cell in cells]\n",
        "    rows2.append(row_data)"
      ],
      "metadata": {
        "id": "Uz1Vor44JVGR"
      },
      "execution_count": 65,
      "outputs": []
    },
    {
      "cell_type": "code",
      "source": [
        "print(rows2)\n"
      ],
      "metadata": {
        "colab": {
          "base_uri": "https://localhost:8080/"
        },
        "id": "nflvzDc6JW_B",
        "outputId": "11475015-0a2f-429f-c9e3-f92d5e469b2d"
      },
      "execution_count": 66,
      "outputs": [
        {
          "output_type": "stream",
          "name": "stdout",
          "text": [
            "[['Samajwadi Party - SP', '37', '0', '37'], ['Bharatiya Janata Party - BJP', '33', '0', '33'], ['Indian National Congress - INC', '6', '0', '6'], ['Rashtriya Lok Dal - RLD', '2', '0', '2'], ['Aazad Samaj Party (Kanshi Ram) - ASPKR', '1', '0', '1'], ['Apna Dal (Soneylal) - ADAL', '1', '0', '1'], []]\n"
          ]
        }
      ]
    },
    {
      "cell_type": "code",
      "source": [
        "#So now let us create a panda dataframe df2 using the above rows and columns\n",
        "df2 = pd.DataFrame(rows2, columns=headers2)"
      ],
      "metadata": {
        "id": "v25BTEiGJZd8"
      },
      "execution_count": 67,
      "outputs": []
    },
    {
      "cell_type": "code",
      "source": [
        "\n",
        "print(df2)"
      ],
      "metadata": {
        "colab": {
          "base_uri": "https://localhost:8080/"
        },
        "id": "jGdlysI9JgMR",
        "outputId": "e0d1c4f5-e575-48aa-a0ec-c960e6ecd9d1"
      },
      "execution_count": 68,
      "outputs": [
        {
          "output_type": "stream",
          "name": "stdout",
          "text": [
            "                                    Party   Won Leading Total\n",
            "0                    Samajwadi Party - SP    37       0    37\n",
            "1            Bharatiya Janata Party - BJP    33       0    33\n",
            "2          Indian National Congress - INC     6       0     6\n",
            "3                 Rashtriya Lok Dal - RLD     2       0     2\n",
            "4  Aazad Samaj Party (Kanshi Ram) - ASPKR     1       0     1\n",
            "5              Apna Dal (Soneylal) - ADAL     1       0     1\n",
            "6                                    None  None    None  None\n"
          ]
        }
      ]
    },
    {
      "cell_type": "code",
      "source": [
        "# this data drame dose'nt contain the totals and we have to also remove the none rows\n",
        "\n",
        "#to remove none rows\n",
        "df2=df2.dropna()"
      ],
      "metadata": {
        "id": "D5caCB4cJjK3"
      },
      "execution_count": 69,
      "outputs": []
    },
    {
      "cell_type": "code",
      "source": [
        "tfoot2 = table2.find('tfoot')\n",
        "if tfoot2:\n",
        "    total_row2 = tfoot2.find('tr')\n",
        "    total_cells2 = total_row2.find_all('th') if total_row2 else []\n",
        "    total_data2 = [cell.text.strip() for cell in total_cells2]\n",
        "    if len(total_data2) == len(headers2):\n",
        "        rows2.append(total_data2)"
      ],
      "metadata": {
        "id": "ng6JYUZwJoEz"
      },
      "execution_count": 70,
      "outputs": []
    },
    {
      "cell_type": "code",
      "source": [
        "#So now let us create a panda dataframe df2 using the above rows and columns\n",
        "df2 = pd.DataFrame(rows2, columns=headers2)"
      ],
      "metadata": {
        "id": "BSY3PUyuJtB4"
      },
      "execution_count": 71,
      "outputs": []
    },
    {
      "cell_type": "code",
      "source": [
        "print(df2)\n"
      ],
      "metadata": {
        "colab": {
          "base_uri": "https://localhost:8080/"
        },
        "id": "KKwoCrg_Jvxg",
        "outputId": "de9fc598-cb0a-4712-b655-c81a5e163f7c"
      },
      "execution_count": 72,
      "outputs": [
        {
          "output_type": "stream",
          "name": "stdout",
          "text": [
            "                                    Party   Won Leading Total\n",
            "0                    Samajwadi Party - SP    37       0    37\n",
            "1            Bharatiya Janata Party - BJP    33       0    33\n",
            "2          Indian National Congress - INC     6       0     6\n",
            "3                 Rashtriya Lok Dal - RLD     2       0     2\n",
            "4  Aazad Samaj Party (Kanshi Ram) - ASPKR     1       0     1\n",
            "5              Apna Dal (Soneylal) - ADAL     1       0     1\n",
            "6                                    None  None    None  None\n",
            "7                                   Total    80       0    80\n"
          ]
        }
      ]
    },
    {
      "cell_type": "code",
      "source": [
        "df2=df2.dropna()\n"
      ],
      "metadata": {
        "id": "CPZnaWyIJ7Oj"
      },
      "execution_count": 73,
      "outputs": []
    },
    {
      "cell_type": "code",
      "source": [
        "print(df2)\n"
      ],
      "metadata": {
        "colab": {
          "base_uri": "https://localhost:8080/"
        },
        "id": "nisRihx9KFKj",
        "outputId": "43b15f90-3396-4c6d-87b5-cdb43fc0fd7d"
      },
      "execution_count": 74,
      "outputs": [
        {
          "output_type": "stream",
          "name": "stdout",
          "text": [
            "                                    Party Won Leading Total\n",
            "0                    Samajwadi Party - SP  37       0    37\n",
            "1            Bharatiya Janata Party - BJP  33       0    33\n",
            "2          Indian National Congress - INC   6       0     6\n",
            "3                 Rashtriya Lok Dal - RLD   2       0     2\n",
            "4  Aazad Samaj Party (Kanshi Ram) - ASPKR   1       0     1\n",
            "5              Apna Dal (Soneylal) - ADAL   1       0     1\n",
            "7                                   Total  80       0    80\n"
          ]
        }
      ]
    },
    {
      "cell_type": "code",
      "source": [
        "#Bravo now it's time for the fedw insights\n",
        "\n",
        "#importing data to an csv file\n",
        "df2.to_csv('uttarpradesh_loksabha.csv', index=False)\n"
      ],
      "metadata": {
        "id": "1-ZhethFKGqN"
      },
      "execution_count": 75,
      "outputs": []
    },
    {
      "cell_type": "code",
      "source": [
        "df2 = pd.read_csv('uttarpradesh_loksabha.csv')\n"
      ],
      "metadata": {
        "id": "C_hLM_tXKJjv"
      },
      "execution_count": 76,
      "outputs": []
    },
    {
      "cell_type": "code",
      "source": [
        "#INSIGHT 7\n",
        "\n",
        "\n",
        "#Political landshcape impact\n",
        "total_seats = df2['Won'].sum()\n",
        "party_share = df2[['Party', 'Won']].copy()\n",
        "party_share['Percentage of Seats Won'] = (party_share['Won'] / total_seats) * 100\n",
        "party_share_sorted = party_share.sort_values(by='Percentage of Seats Won', ascending=False)\n",
        "\n",
        "print(\"\\n3. Impact on Governance:\")\n",
        "print(f\"Total seats won across all parties: {total_seats}\")\n",
        "print(\"Percentage share of seats by party:\")\n",
        "print(party_share_sorted[['Party', 'Percentage of Seats Won']])"
      ],
      "metadata": {
        "colab": {
          "base_uri": "https://localhost:8080/"
        },
        "id": "aP1QZ7AKKLVl",
        "outputId": "03044813-118d-469f-dcd8-e533ba9342b1"
      },
      "execution_count": 85,
      "outputs": [
        {
          "output_type": "stream",
          "name": "stdout",
          "text": [
            "\n",
            "3. Impact on Governance:\n",
            "Total seats won across all parties: 160\n",
            "Percentage share of seats by party:\n",
            "                                    Party  Percentage of Seats Won\n",
            "6                                   Total                   50.000\n",
            "0                    Samajwadi Party - SP                   23.125\n",
            "1            Bharatiya Janata Party - BJP                   20.625\n",
            "2          Indian National Congress - INC                    3.750\n",
            "3                 Rashtriya Lok Dal - RLD                    1.250\n",
            "4  Aazad Samaj Party (Kanshi Ram) - ASPKR                    0.625\n",
            "5              Apna Dal (Soneylal) - ADAL                    0.625\n"
          ]
        }
      ]
    },
    {
      "cell_type": "code",
      "source": [
        "#INSIGHT 8\n",
        "# Representation and Diversity\n",
        "total_parties = df2.shape[0] - 1  # Exclude the 'Total' row\n",
        "leading_parties = df2[df2['Won'] > 0]\n",
        "majority_parties = leading_parties[leading_parties['Won'] > total_seats / 2]\n",
        "\n",
        "print(\"\\n5. Representation and Diversity:\")\n",
        "print(f\"Total number of parties contested: {total_parties}\")\n",
        "print(f\"Number of parties winning seats: {leading_parties.shape[0]}\")\n",
        "print(f\"Number of parties winning majority (>50% seats): {majority_parties.shape[0]}\")"
      ],
      "metadata": {
        "colab": {
          "base_uri": "https://localhost:8080/"
        },
        "id": "6xkuxMpuKR1s",
        "outputId": "859d68e1-9daa-48ac-a67f-e9feb07e9041"
      },
      "execution_count": 86,
      "outputs": [
        {
          "output_type": "stream",
          "name": "stdout",
          "text": [
            "\n",
            "5. Representation and Diversity:\n",
            "Total number of parties contested: 6\n",
            "Number of parties winning seats: 7\n",
            "Number of parties winning majority (>50% seats): 0\n"
          ]
        }
      ]
    },
    {
      "cell_type": "code",
      "source": [
        "#INSIGHT 9\n",
        "\n",
        "#Comparing National and State Data\n",
        "\n",
        "# Print column names of df and df2\n",
        "# print(\"Columns in df:\", df.columns)\n",
        "# print(\"Columns in df2:\", df2.columns)\n",
        "\n",
        "\n",
        "import pandas as pd\n",
        "\n",
        "# Ensure column names match by renaming 'Party Name' in df to 'Party'\n",
        "df.rename(columns={'Party Name': 'Party'}, inplace=True)\n",
        "\n",
        "# Select relevant columns for comparison\n",
        "df1_selected = df[['Party', 'Won']].copy()\n",
        "df2_selected = df2[['Party', 'Won']].copy()\n",
        "\n",
        "# Merge dataframes on 'Party' to compare results\n",
        "comparison_df = pd.merge(df1_selected, df2_selected, on='Party', suffixes=('_df1', '_df2'))\n",
        "\n",
        "# Calculate differences\n",
        "comparison_df['Difference'] = comparison_df['Won_df1'] - comparison_df['Won_df2']\n",
        "\n",
        "print(\"Comparison of seats won between two dataframes:\")\n",
        "print(comparison_df)\n"
      ],
      "metadata": {
        "colab": {
          "base_uri": "https://localhost:8080/"
        },
        "id": "4bX1NTyKKnmE",
        "outputId": "8a6a4e8c-a9bd-4099-adc1-805086c017bb"
      },
      "execution_count": 92,
      "outputs": [
        {
          "output_type": "stream",
          "name": "stdout",
          "text": [
            "Comparison of seats won between two dataframes:\n",
            "                                    Party  Won_df1  Won_df2  Difference\n",
            "0            Bharatiya Janata Party - BJP      240       33         207\n",
            "1          Indian National Congress - INC       99        6          93\n",
            "2                    Samajwadi Party - SP       37       37           0\n",
            "3                 Rashtriya Lok Dal - RLD        2        2           0\n",
            "4  Aazad Samaj Party (Kanshi Ram) - ASPKR        1        1           0\n",
            "5              Apna Dal (Soneylal) - ADAL        1        1           0\n"
          ]
        }
      ]
    },
    {
      "cell_type": "code",
      "source": [
        "#INSIGHT 10\n",
        "# Select top parties from both datasets for comparison\n",
        "# Rename the column in the Uttar Pradesh DataFrame\n",
        "top_parties_up.rename(columns={'Party': 'Party Name'}, inplace=True)\n",
        "\n",
        "# Merge the DataFrames\n",
        "merged_top_parties = pd.merge(top_parties_national, top_parties_up, on='Party Name', suffixes=('_National', '_Uttar_Pradesh'))\n",
        "\n",
        "# Print the merged DataFrame\n",
        "print(\"\\nComparative Performance of Top Parties - National vs Uttar Pradesh:\")\n",
        "print(merged_top_parties)\n",
        "\n"
      ],
      "metadata": {
        "colab": {
          "base_uri": "https://localhost:8080/"
        },
        "id": "Wpdo2WEaKuY6",
        "outputId": "4c10d8d5-f98c-40a5-af66-4177af99acce"
      },
      "execution_count": 97,
      "outputs": [
        {
          "output_type": "stream",
          "name": "stdout",
          "text": [
            "\n",
            "Comparative Performance of Top Parties - National vs Uttar Pradesh:\n",
            "   Unnamed: 0                      Party Name  Won_National  Leading_National  \\\n",
            "0           0    Bharatiya Janata Party - BJP           240                 0   \n",
            "1           1  Indian National Congress - INC            99                 0   \n",
            "2           2            Samajwadi Party - SP            37                 0   \n",
            "\n",
            "   Total_National  Won_Uttar_Pradesh  Leading_Uttar_Pradesh  \\\n",
            "0             240                 33                      0   \n",
            "1              99                  6                      0   \n",
            "2              37                 37                      0   \n",
            "\n",
            "   Total_Uttar_Pradesh  \n",
            "0                   33  \n",
            "1                    6  \n",
            "2                   37  \n"
          ]
        }
      ]
    },
    {
      "cell_type": "code",
      "source": [],
      "metadata": {
        "id": "96Q0qHFhY6Ow"
      },
      "execution_count": null,
      "outputs": []
    }
  ],
  "metadata": {
    "colab": {
      "provenance": []
    },
    "kernelspec": {
      "display_name": "Python 3",
      "name": "python3"
    },
    "language_info": {
      "name": "python"
    }
  },
  "nbformat": 4,
  "nbformat_minor": 0
}